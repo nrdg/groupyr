{
  "cells": [
    {
      "cell_type": "code",
      "execution_count": null,
      "metadata": {
        "collapsed": false
      },
      "outputs": [],
      "source": [
        "%matplotlib inline"
      ]
    },
    {
      "cell_type": "markdown",
      "metadata": {},
      "source": [
        "\n# Visualizing the SGL regularization path\n\nComputes SGL path using the function ``sgl_path`` along the regularization parameter\non a synthetic dataset.  Each color represents a different feature group in the\ncoefficient vector, and this is displayed as a function of the regularization\nparameter.\n\nWhen alpha is very large, the regularization effect dominates and the\ncoefficients tend to zero.  As alpha tends toward zero the solution tends\ntowards the ordinary least squares.\n\nWhen a group of covariates goes to zero (indicated by the dashed vertical line),\nthis relieves the regularization penalty on the other groups, creating \"jumps\"\nin the magnitudes of the other covariate groups.\n\nIn practise it is necessary to tune alpha (and l1_ratio) to best fit the\ntraining data.\n"
      ]
    },
    {
      "cell_type": "code",
      "execution_count": null,
      "metadata": {
        "collapsed": false
      },
      "outputs": [],
      "source": [
        "import groupyr as gpr\nimport matplotlib.pyplot as plt\nimport numpy as np\n\n\nX, y, groups, coef = gpr.datasets.make_group_regression(\n    n_samples=400,\n    n_groups=10,\n    n_informative_groups=3,\n    n_features_per_group=10,\n    n_informative_per_group=3,\n    noise=200,\n    coef=True,\n    random_state=10,\n    shuffle=True,\n)\n\npath_coefs, path_alphas, path_iters = gpr.sgl_path(\n    X, y, l1_ratio=0.5, groups=groups, eps=0.001, n_alphas=200, max_ier=1000, tol=1e-3\n)\n\ngroup_means = np.array([np.linalg.norm(path_coefs[grp], axis=0) for grp in groups])\n\nzero_idx = np.array(\n    [np.max(np.where(group_means[i] == 0)[0]) for i in range(len(groups))]\n)\n\nfig, ax = plt.subplots(2, 1, figsize=(8, 10), sharex=True)\n\ncmap = plt.get_cmap(\"tab10\")\n\nfor grp, color, z_idx in zip(groups, cmap.colors, zero_idx):\n    _ = ax[0].semilogx(\n        path_alphas, np.abs(path_coefs[grp][:-1].transpose()), color=color\n    )\n\n    _ = ax[0].axvline(path_alphas[z_idx], ls=\":\", color=color)\n    _ = ax[1].axvline(path_alphas[z_idx], ls=\":\", color=color)\n\n_ = ax[1].semilogx(path_alphas, group_means.transpose())\n\n_ = ax[1].set_xlabel(r\"$\\log(\\alpha)$\", fontsize=16)\n_ = ax[0].set_ylabel(r\"$\\left| \\hat{\\beta} \\right|$\", fontsize=16)\n_ = ax[1].set_ylabel(\n    r\"$\\left| \\left| \\hat{\\beta}^{(\\ell)} \\right| \\right|_2$\", fontsize=16\n)\n\n_ = ax[0].set_title(r\"SGL ($\\lambda=0.5$) regularization path\", fontsize=16)"
      ]
    }
  ],
  "metadata": {
    "kernelspec": {
      "display_name": "Python 3",
      "language": "python",
      "name": "python3"
    },
    "language_info": {
      "codemirror_mode": {
        "name": "ipython",
        "version": 3
      },
      "file_extension": ".py",
      "mimetype": "text/x-python",
      "name": "python",
      "nbconvert_exporter": "python",
      "pygments_lexer": "ipython3",
      "version": "3.8.16"
    }
  },
  "nbformat": 4,
  "nbformat_minor": 0
}