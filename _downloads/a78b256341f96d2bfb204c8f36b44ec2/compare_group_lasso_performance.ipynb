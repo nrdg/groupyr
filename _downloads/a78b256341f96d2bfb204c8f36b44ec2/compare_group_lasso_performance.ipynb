{
  "cells": [
    {
      "cell_type": "code",
      "execution_count": null,
      "metadata": {
        "collapsed": false
      },
      "outputs": [],
      "source": [
        "%matplotlib inline"
      ]
    },
    {
      "cell_type": "markdown",
      "metadata": {},
      "source": [
        "\n# Rudimentary performance comparison of groupyr and group-lasso\n\nThis example performs a rudimentary performance comparison of the groupyr and\ngroup-lasso packages for various problem sizes. Speedup is defined as the\nratio of time to fit a `group-lasso.GroupLasso` model to the time to fit a\n`groupyr.SGL` model.\n\nIn addition to `groupyr`, you will need to install the `group-lasso` package\nusing\n```\npip install group-lasso\n```\n\n"
      ]
    },
    {
      "cell_type": "code",
      "execution_count": null,
      "metadata": {
        "collapsed": false
      },
      "outputs": [],
      "source": [
        "import groupyr as gpr\nimport matplotlib.pyplot as plt\nimport numpy as np\n\nfrom group_lasso import GroupLasso\nfrom sklearn.model_selection import train_test_split\nfrom timeit import timeit\nfrom tqdm.auto import tqdm\n\nn_features = [5, 10, 25, 50, 75, 100, 150, 200, 250]\nspeedup = []\n\nfor n_features_per_group in tqdm(n_features):\n    X, y, groups, coef = gpr.datasets.make_group_regression(\n        n_samples=400,\n        n_groups=50,\n        n_informative_groups=5,\n        n_features_per_group=n_features_per_group,\n        n_informative_per_group=int(0.8 * n_features_per_group),\n        noise=200,\n        coef=True,\n        random_state=10,\n        shuffle=True,\n    )\n\n    gl_groups = np.concatenate(\n        [[idx] * len(grp) for idx, grp in enumerate(groups)]\n    ).reshape([-1, 1])\n\n    X_train, X_test, y_train, y_test = train_test_split(\n        X, y, test_size=0.25, random_state=10\n    )\n\n    sgl = gpr.SGL(groups=groups, l1_ratio=0.5, alpha=1.0, max_iter=1000, tol=1e-3)\n\n    gl = GroupLasso(\n        groups=gl_groups,\n        group_reg=0.5,\n        l1_reg=0.5,\n        frobenius_lipschitz=True,\n        scale_reg=\"group_size\",\n        n_iter=1000,\n        tol=1e-3,\n        supress_warning=True,\n    )\n\n    gpr_time = timeit(\"sgl.fit(X_train, y_train)\", globals=globals(), number=3)\n    gl_time = timeit(\"gl.fit(X_train, y_train)\", globals=globals(), number=3)\n\n    speedup.append(gpr_time / gl_time)\n\nfig, ax = plt.subplots(1, 1, figsize=(8, 5))\n\n_ = ax.plot(np.array(n_features) * 50, 1 / np.array(speedup))\n_ = ax.set_xlabel(r\"Number of features\", fontsize=16)\n_ = ax.set_ylabel(r\"$t$(group-lasso) / $t$(groupyr)\", fontsize=16)\n_ = ax.set_title(\n    \"\\n\".join([r\"Rudimentary performance comparison\", r\"of groupyr and group-lasso\"]),\n    fontsize=16,\n)\n\nfig.savefig(\"./groupyr_speedup.pdf\", bbox_inches=\"tight\")"
      ]
    }
  ],
  "metadata": {
    "kernelspec": {
      "display_name": "Python 3",
      "language": "python",
      "name": "python3"
    },
    "language_info": {
      "codemirror_mode": {
        "name": "ipython",
        "version": 3
      },
      "file_extension": ".py",
      "mimetype": "text/x-python",
      "name": "python",
      "nbconvert_exporter": "python",
      "pygments_lexer": "ipython3",
      "version": "3.6.12"
    }
  },
  "nbformat": 4,
  "nbformat_minor": 0
}