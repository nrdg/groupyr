{
  "cells": [
    {
      "cell_type": "code",
      "execution_count": null,
      "metadata": {
        "collapsed": false
      },
      "outputs": [],
      "source": [
        "%matplotlib inline"
      ]
    },
    {
      "cell_type": "markdown",
      "metadata": {},
      "source": [
        "\n# Logistic Sparse Group Lasso for grouped sparse signals\n\nEstimates a Sparse Group Lasso logistic regression model on a simulated\nsparse signal. The estimated important features are compared with the\nground-truth.\n"
      ]
    },
    {
      "cell_type": "code",
      "execution_count": null,
      "metadata": {
        "collapsed": false
      },
      "outputs": [],
      "source": [
        "import numpy as np\nfrom matplotlib import pyplot as plt\nfrom groupyr import LogisticSGLCV\nfrom groupyr.datasets import make_group_classification\n\nX, y, groups, idx = make_group_classification(\n    n_samples=100,\n    n_groups=20,\n    n_informative_groups=3,\n    n_features_per_group=20,\n    n_informative_per_group=10,\n    n_redundant_per_group=0,\n    n_repeated_per_group=0,\n    n_classes=2,\n    scale=100,\n    useful_indices=True,\n    random_state=42,\n)\n\n_, n_features = X.shape\n\nmodel = LogisticSGLCV(\n    groups=groups, l1_ratio=[0.80, 0.90], n_alphas=40, tol=1e-3, eps=1e-2, cv=3\n).fit(X, y)\n\nplt.plot(\n    np.arange(n_features),\n    model.coef_,\n    marker=\"o\",\n    mfc=\"black\",\n    mec=\"none\",\n    ms=3,\n    mew=0,\n    ls=\"\",\n    label=\"coefficients\",\n)\n\nplt.plot(\n    np.arange(n_features)[idx],\n    model.coef_[idx],\n    marker=\"o\",\n    mfc=\"none\",\n    mec=\"green\",\n    ms=5,\n    mew=3,\n    ls=\"\",\n    label=\"informative features\",\n)\n\nplt.title(\"Estimated coefficients with ground truth imporant features highlighted\")\n\nplt.legend(loc=\"best\")\nplt.xlabel(\"Feature index\")\nplt.ylabel(\"Coefs\")\n\nplt.show()\n\nprint(\"Indices of ground-truth informative features:\")\nprint(np.where(idx)[0])\n\nprint(\"Indices of non-zero estimated coefs:\")\nprint(model.chosen_features_)"
      ]
    }
  ],
  "metadata": {
    "kernelspec": {
      "display_name": "Python 3",
      "language": "python",
      "name": "python3"
    },
    "language_info": {
      "codemirror_mode": {
        "name": "ipython",
        "version": 3
      },
      "file_extension": ".py",
      "mimetype": "text/x-python",
      "name": "python",
      "nbconvert_exporter": "python",
      "pygments_lexer": "ipython3",
      "version": "3.7.9"
    }
  },
  "nbformat": 4,
  "nbformat_minor": 0
}